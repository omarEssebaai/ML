{
 "cells": [
  {
   "cell_type": "code",
   "execution_count": 1,
   "metadata": {},
   "outputs": [
    {
     "name": "stderr",
     "output_type": "stream",
     "text": [
      "Using TensorFlow backend.\n"
     ]
    }
   ],
   "source": [
    "import pandas as pd\n",
    "import numpy as np\n",
    "import matplotlib as mpl\n",
    "from keras.models import Sequential\n",
    "from keras.layers import Dense, Dropout, Activation, LeakyReLU\n",
    "from keras import backend"
   ]
  },
  {
   "cell_type": "code",
   "execution_count": 2,
   "metadata": {},
   "outputs": [],
   "source": [
    "data = pd.read_csv('training3.csv')"
   ]
  },
  {
   "cell_type": "code",
   "execution_count": 3,
   "metadata": {},
   "outputs": [
    {
     "name": "stdout",
     "output_type": "stream",
     "text": [
      "        Stock Price  Strike Price  Maturity  Dividends  Volatility  Risk-free  \\\n",
      "0        206.484182    194.386150  1.093151   0.005674    0.862692   0.058898   \n",
      "1         79.581809     73.926431  0.843836   0.020428    0.759562   0.080634   \n",
      "2        130.957110    154.101232  1.326027   0.019181    0.606436   0.042031   \n",
      "3         53.020511     58.598175  0.791781   0.028475    0.572696   0.036566   \n",
      "4        455.190704    529.570396  0.501370   0.009074    0.090578   0.044426   \n",
      "...             ...           ...       ...        ...         ...        ...   \n",
      "299995   350.089693    297.253216  2.290411   0.024958    0.798014   0.065783   \n",
      "299996   298.185427    349.183746  1.232877   0.025116    0.258656   0.098986   \n",
      "299997    75.461971     94.875668  2.473973   0.017064    0.765170   0.015199   \n",
      "299998   498.375137    360.035145  2.260274   0.025877    0.119936   0.029400   \n",
      "299999   280.009181    296.958706  0.249315   0.008176    0.184513   0.057586   \n",
      "\n",
      "        Call Price  \n",
      "0        79.434285  \n",
      "1        24.975516  \n",
      "2        28.927743  \n",
      "3         8.573626  \n",
      "4         0.210253  \n",
      "...            ...  \n",
      "299995  173.232381  \n",
      "299996   25.075951  \n",
      "299997   28.150892  \n",
      "299998  134.079063  \n",
      "299999    5.175015  \n",
      "\n",
      "[300000 rows x 7 columns]\n"
     ]
    }
   ],
   "source": [
    "print(data)"
   ]
  },
  {
   "cell_type": "code",
   "execution_count": 4,
   "metadata": {},
   "outputs": [],
   "source": [
    "## Normalize the data exploiting the fact that the BS Model is linear homogenous in S,K\n",
    "data[\"Stock Price\"] = data[\"Stock Price\"]/data[\"Strike Price\"]\n",
    "data[\"Call Price\"] = data[\"Call Price\"]/data[\"Strike Price\"]"
   ]
  },
  {
   "cell_type": "code",
   "execution_count": 5,
   "metadata": {},
   "outputs": [
    {
     "name": "stdout",
     "output_type": "stream",
     "text": [
      "        Stock Price  Strike Price  Maturity  Dividends  Volatility  Risk-free  \\\n",
      "0          1.062237    194.386150  1.093151   0.005674    0.862692   0.058898   \n",
      "1          1.076500     73.926431  0.843836   0.020428    0.759562   0.080634   \n",
      "2          0.849812    154.101232  1.326027   0.019181    0.606436   0.042031   \n",
      "3          0.904815     58.598175  0.791781   0.028475    0.572696   0.036566   \n",
      "4          0.859547    529.570396  0.501370   0.009074    0.090578   0.044426   \n",
      "...             ...           ...       ...        ...         ...        ...   \n",
      "299995     1.177749    297.253216  2.290411   0.024958    0.798014   0.065783   \n",
      "299996     0.853950    349.183746  1.232877   0.025116    0.258656   0.098986   \n",
      "299997     0.795377     94.875668  2.473973   0.017064    0.765170   0.015199   \n",
      "299998     1.384240    360.035145  2.260274   0.025877    0.119936   0.029400   \n",
      "299999     0.942923    296.958706  0.249315   0.008176    0.184513   0.057586   \n",
      "\n",
      "        Call Price  \n",
      "0         0.408642  \n",
      "1         0.337843  \n",
      "2         0.187719  \n",
      "3         0.146312  \n",
      "4         0.000397  \n",
      "...            ...  \n",
      "299995    0.582777  \n",
      "299996    0.071813  \n",
      "299997    0.296714  \n",
      "299998    0.372405  \n",
      "299999    0.017427  \n",
      "\n",
      "[300000 rows x 7 columns]\n"
     ]
    }
   ],
   "source": [
    "print(data)"
   ]
  },
  {
   "cell_type": "code",
   "execution_count": 6,
   "metadata": {},
   "outputs": [],
   "source": [
    "n = 300000\n",
    "n_train =  (int)(0.8 * n)\n",
    "train = data[0:n_train]"
   ]
  },
  {
   "cell_type": "code",
   "execution_count": 7,
   "metadata": {},
   "outputs": [
    {
     "name": "stdout",
     "output_type": "stream",
     "text": [
      "        Stock Price  Strike Price  Maturity  Dividends  Volatility  Risk-free  \\\n",
      "0          1.062237    194.386150  1.093151   0.005674    0.862692   0.058898   \n",
      "1          1.076500     73.926431  0.843836   0.020428    0.759562   0.080634   \n",
      "2          0.849812    154.101232  1.326027   0.019181    0.606436   0.042031   \n",
      "3          0.904815     58.598175  0.791781   0.028475    0.572696   0.036566   \n",
      "4          0.859547    529.570396  0.501370   0.009074    0.090578   0.044426   \n",
      "...             ...           ...       ...        ...         ...        ...   \n",
      "239995     1.274442    150.103170  0.857534   0.013302    0.567847   0.062433   \n",
      "239996     0.967148    188.313518  2.131507   0.004345    0.707577   0.079499   \n",
      "239997     0.831508    183.053470  2.287671   0.022924    0.576246   0.035188   \n",
      "239998     0.907767    545.414520  2.931507   0.023927    0.342367   0.011960   \n",
      "239999     1.173114    217.761045  0.701370   0.001961    0.325961   0.022157   \n",
      "\n",
      "        Call Price  \n",
      "0         0.408642  \n",
      "1         0.337843  \n",
      "2         0.187719  \n",
      "3         0.146312  \n",
      "4         0.000397  \n",
      "...            ...  \n",
      "239995    0.416733  \n",
      "239996    0.415017  \n",
      "239997    0.225949  \n",
      "239998    0.154326  \n",
      "239999    0.233246  \n",
      "\n",
      "[240000 rows x 7 columns]\n"
     ]
    }
   ],
   "source": [
    "print(train)"
   ]
  },
  {
   "cell_type": "code",
   "execution_count": 8,
   "metadata": {},
   "outputs": [],
   "source": [
    "index = data.index\n",
    "columns = data.columns\n",
    "values = data.values"
   ]
  },
  {
   "cell_type": "markdown",
   "metadata": {},
   "source": [
    "train['Strike']"
   ]
  },
  {
   "cell_type": "code",
   "execution_count": 9,
   "metadata": {},
   "outputs": [],
   "source": [
    "X_train = train[['Stock Price', 'Maturity', 'Dividends', 'Volatility', 'Risk-free']].values\n",
    "y_train = train['Call Price'].values\n",
    "test = data[n_train+1:n]\n",
    "X_test = test[['Stock Price', 'Maturity', 'Dividends', 'Volatility', 'Risk-free']].values\n",
    "y_test = test['Call Price'].values"
   ]
  },
  {
   "cell_type": "code",
   "execution_count": 10,
   "metadata": {},
   "outputs": [],
   "source": [
    "def custom_activation(x):\n",
    "    return backend.exp(x)"
   ]
  },
  {
   "cell_type": "code",
   "execution_count": 11,
   "metadata": {},
   "outputs": [
    {
     "name": "stdout",
     "output_type": "stream",
     "text": [
      "WARNING:tensorflow:From c:\\users\\oessebaai\\appdata\\local\\programs\\python\\python36\\lib\\site-packages\\keras\\backend\\tensorflow_backend.py:66: The name tf.get_default_graph is deprecated. Please use tf.compat.v1.get_default_graph instead.\n",
      "\n",
      "WARNING:tensorflow:From c:\\users\\oessebaai\\appdata\\local\\programs\\python\\python36\\lib\\site-packages\\keras\\backend\\tensorflow_backend.py:541: The name tf.placeholder is deprecated. Please use tf.compat.v1.placeholder instead.\n",
      "\n",
      "WARNING:tensorflow:From c:\\users\\oessebaai\\appdata\\local\\programs\\python\\python36\\lib\\site-packages\\keras\\backend\\tensorflow_backend.py:4432: The name tf.random_uniform is deprecated. Please use tf.random.uniform instead.\n",
      "\n",
      "WARNING:tensorflow:From c:\\users\\oessebaai\\appdata\\local\\programs\\python\\python36\\lib\\site-packages\\keras\\backend\\tensorflow_backend.py:148: The name tf.placeholder_with_default is deprecated. Please use tf.compat.v1.placeholder_with_default instead.\n",
      "\n",
      "WARNING:tensorflow:From c:\\users\\oessebaai\\appdata\\local\\programs\\python\\python36\\lib\\site-packages\\keras\\backend\\tensorflow_backend.py:3733: calling dropout (from tensorflow.python.ops.nn_ops) with keep_prob is deprecated and will be removed in a future version.\n",
      "Instructions for updating:\n",
      "Please use `rate` instead of `keep_prob`. Rate should be set to `rate = 1 - keep_prob`.\n",
      "WARNING:tensorflow:From c:\\users\\oessebaai\\appdata\\local\\programs\\python\\python36\\lib\\site-packages\\keras\\optimizers.py:793: The name tf.train.Optimizer is deprecated. Please use tf.compat.v1.train.Optimizer instead.\n",
      "\n"
     ]
    }
   ],
   "source": [
    "nodes = 120\n",
    "model = Sequential()\n",
    "\n",
    "model.add(Dense(nodes, input_dim=X_train.shape[1]))\n",
    "model.add(LeakyReLU())\n",
    "model.add(Dropout(0.25))\n",
    "\n",
    "model.add(Dense(nodes, activation='elu'))\n",
    "model.add(Dropout(0.25))\n",
    "\n",
    "model.add(Dense(nodes, activation='relu'))\n",
    "model.add(Dropout(0.25))\n",
    "\n",
    "model.add(Dense(nodes, activation='elu'))\n",
    "model.add(Dropout(0.25))\n",
    "\n",
    "model.add(Dense(1))\n",
    "model.add(Activation(custom_activation))\n",
    "\n",
    "model.compile(loss='mse',optimizer='rmsprop')"
   ]
  },
  {
   "cell_type": "code",
   "execution_count": 12,
   "metadata": {},
   "outputs": [
    {
     "name": "stdout",
     "output_type": "stream",
     "text": [
      "WARNING:tensorflow:From c:\\users\\oessebaai\\appdata\\local\\programs\\python\\python36\\lib\\site-packages\\keras\\backend\\tensorflow_backend.py:1033: The name tf.assign_add is deprecated. Please use tf.compat.v1.assign_add instead.\n",
      "\n",
      "Train on 216000 samples, validate on 24000 samples\n",
      "Epoch 1/10\n",
      "Epoch 2/10\n",
      "Epoch 3/10\n",
      "Epoch 4/10\n",
      "Epoch 5/10\n",
      "Epoch 6/10\n",
      "Epoch 7/10\n",
      "Epoch 8/10\n",
      "Epoch 9/10\n",
      "Epoch 10/10\n"
     ]
    },
    {
     "data": {
      "text/plain": [
       "<keras.callbacks.History at 0xbb9b080c50>"
      ]
     },
     "execution_count": 12,
     "metadata": {},
     "output_type": "execute_result"
    }
   ],
   "source": [
    "model.fit(X_train, y_train, batch_size=64, epochs=10, validation_split=0.1, verbose=3)"
   ]
  },
  {
   "cell_type": "code",
   "execution_count": 13,
   "metadata": {},
   "outputs": [],
   "source": [
    "import matplotlib.pyplot as plt\n",
    "from pylab import *"
   ]
  },
  {
   "cell_type": "code",
   "execution_count": 14,
   "metadata": {},
   "outputs": [],
   "source": [
    "def CheckAccuracy(y,y_hat):\n",
    "    stats = dict()\n",
    "\n",
    "    stats['diff'] = y - y_hat\n",
    "\n",
    "    #stats['mse'] = mean(stats['diff']**2)\n",
    "    #print(\"Mean Squared Error:      \", stats['mse'])\n",
    "\n",
    "    #stats['rmse'] = sqrt(stats['mse'])\n",
    "    #print(\"Root Mean Squared Error: \", stats['rmse'])\n",
    "\n",
    "    #stats['mae'] = mean(abs(stats['diff']))\n",
    "    #print(\"Mean Absolute Error:     \", stats['mae'])\n",
    "\n",
    "    #stats['mpe'] = sqrt(stats['mse'])/mean(y)\n",
    "    #print(\"Mean Percent Error:      \", stats['mpe'])\n",
    "\n",
    "    #plots\n",
    "    mpl.rcParams['agg.path.chunksize'] = 100000\n",
    "    figure(figsize=(14,10))\n",
    "    plt.scatter(y, y_hat,color='black',linewidth=0.3,alpha=0.4, s=0.5)\n",
    "    plt.xlabel('Actual Price',fontsize=20,fontname='Times New Roman')\n",
    "    plt.ylabel('Predicted Price',fontsize=20,fontname='Times New Roman')\n",
    "    plt.show()\n",
    "\n",
    "    figure(figsize=(14,10))\n",
    "    plt.hist(stats['diff'], bins=50,edgecolor='black',color='white')\n",
    "    plt.xlabel('Diff')\n",
    "    plt.ylabel('Density')\n",
    "    plt.show()\n",
    "\n",
    "    return stats"
   ]
  },
  {
   "cell_type": "code",
   "execution_count": 15,
   "metadata": {},
   "outputs": [],
   "source": [
    "def squeeze(y_train_hat):\n",
    "    list2 = []\n",
    "    for element in y_train_hat:\n",
    "        list2.append(element)\n",
    "    return list2"
   ]
  },
  {
   "cell_type": "code",
   "execution_count": 16,
   "metadata": {
    "scrolled": true
   },
   "outputs": [
    {
     "name": "stdout",
     "output_type": "stream",
     "text": [
      "[[0.42504996]\n",
      " [0.35335463]\n",
      " [0.19947094]\n",
      " ...\n",
      " [0.23444593]\n",
      " [0.17219064]\n",
      " [0.25009337]]\n",
      "[0.40864169 0.33784285 0.18771909 ... 0.22594855 0.15432559 0.23324567]\n"
     ]
    }
   ],
   "source": [
    "y_train_hat = model.predict(X_train)\n",
    "#reduce dim (240000,1) -> (240000,) to match y_train's dim\n",
    "#y_train_hat = squeeze(y_train_hat)\n",
    "#CheckAccuracy(y_train, y_train_hat)\n",
    "print(y_train_hat)\n",
    "print(y_train)"
   ]
  },
  {
   "cell_type": "code",
   "execution_count": 17,
   "metadata": {},
   "outputs": [],
   "source": [
    "X = np.reshape(y_train_hat, (-1))"
   ]
  },
  {
   "cell_type": "code",
   "execution_count": 18,
   "metadata": {},
   "outputs": [
    {
     "name": "stdout",
     "output_type": "stream",
     "text": [
      "[0.42504996 0.35335463 0.19947094 ... 0.23444593 0.17219064 0.25009337]\n"
     ]
    }
   ],
   "source": [
    "print(X)"
   ]
  },
  {
   "cell_type": "code",
   "execution_count": 19,
   "metadata": {},
   "outputs": [
    {
     "data": {
      "image/png": "[encoded data removed]",
      "text/plain": [
       "<Figure size 1008x720 with 1 Axes>"
      ]
     },
     "metadata": {
      "needs_background": "light"
     },
     "output_type": "display_data"
    },
    {
     "data": {
      "image/png": "[encoded data removed]",
      "text/plain": [
       "<Figure size 1008x720 with 1 Axes>"
      ]
     },
     "metadata": {
      "needs_background": "light"
     },
     "output_type": "display_data"
    },
    {
     "data": {
      "text/plain": [
       "{'diff': array([-0.01640827, -0.01551178, -0.01175185, ..., -0.00849738,\n",
       "        -0.01786505, -0.0168477 ])}"
      ]
     },
     "execution_count": 19,
     "metadata": {},
     "output_type": "execute_result"
    }
   ],
   "source": [
    "CheckAccuracy(y_train, X)"
   ]
  },
  {
   "cell_type": "code",
   "execution_count": null,
   "metadata": {},
   "outputs": [],
   "source": []
  }
 ],
 "metadata": {
  "kernelspec": {
   "display_name": "Python 3",
   "language": "python",
   "name": "python3"
  },
  "language_info": {
   "codemirror_mode": {
    "name": "ipython",
    "version": 3
   },
   "file_extension": ".py",
   "mimetype": "text/x-python",
   "name": "python",
   "nbconvert_exporter": "python",
   "pygments_lexer": "ipython3",
   "version": "3.6.7"
  }
 },
 "nbformat": 4,
 "nbformat_minor": 2
}
