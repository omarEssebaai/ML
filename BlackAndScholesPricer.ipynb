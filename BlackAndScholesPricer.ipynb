{
 "cells": [
  {
   "cell_type": "markdown",
   "metadata": {},
   "source": [
    "# data to use for the training model"
   ]
  },
  {
   "cell_type": "code",
   "execution_count": 1,
   "metadata": {},
   "outputs": [
    {
     "name": "stdout",
     "output_type": "stream",
     "text": [
      "curses is not supported on this machine (please install/reinstall curses for an optimal experience)\n",
      "WARNING:tensorflow:From c:\\users\\oessebaai\\appdata\\local\\programs\\python\\python36\\lib\\site-packages\\tflearn\\helpers\\summarizer.py:9: The name tf.summary.merge is deprecated. Please use tf.compat.v1.summary.merge instead.\n",
      "\n",
      "WARNING:tensorflow:From c:\\users\\oessebaai\\appdata\\local\\programs\\python\\python36\\lib\\site-packages\\tflearn\\helpers\\trainer.py:25: The name tf.summary.FileWriter is deprecated. Please use tf.compat.v1.summary.FileWriter instead.\n",
      "\n",
      "WARNING:tensorflow:From c:\\users\\oessebaai\\appdata\\local\\programs\\python\\python36\\lib\\site-packages\\tflearn\\collections.py:13: The name tf.GraphKeys is deprecated. Please use tf.compat.v1.GraphKeys instead.\n",
      "\n",
      "WARNING:tensorflow:From c:\\users\\oessebaai\\appdata\\local\\programs\\python\\python36\\lib\\site-packages\\tflearn\\config.py:123: The name tf.get_collection is deprecated. Please use tf.compat.v1.get_collection instead.\n",
      "\n",
      "WARNING:tensorflow:From c:\\users\\oessebaai\\appdata\\local\\programs\\python\\python36\\lib\\site-packages\\tflearn\\config.py:129: The name tf.add_to_collection is deprecated. Please use tf.compat.v1.add_to_collection instead.\n",
      "\n",
      "WARNING:tensorflow:From c:\\users\\oessebaai\\appdata\\local\\programs\\python\\python36\\lib\\site-packages\\tflearn\\config.py:131: The name tf.assign is deprecated. Please use tf.compat.v1.assign instead.\n",
      "\n",
      "Pixiedust database opened successfully\n"
     ]
    },
    {
     "data": {
      "text/html": [
       "\n",
       "        <div style=\"margin:10px\">\n",
       "            <a href=\"https://github.com/ibm-watson-data-lab/pixiedust\" target=\"_new\">\n",
       "                <img src=\"https://github.com/ibm-watson-data-lab/pixiedust/raw/master/docs/_static/pd_icon32.png\" style=\"float:left;margin-right:10px\"/>\n",
       "            </a>\n",
       "            <span>Pixiedust version 1.1.17</span>\n",
       "        </div>\n",
       "        "
      ],
      "text/plain": [
       "<IPython.core.display.HTML object>"
      ]
     },
     "metadata": {},
     "output_type": "display_data"
    }
   ],
   "source": [
    "import numpy as np\n",
    "import tensorflow as tf\n",
    "import scipy.stats as si\n",
    "import pandas as pd\n",
    "import tflearn\n",
    "import pixiedust\n",
    "\n",
    "\n",
    "from random import *\n",
    "from matplotlib import pyplot as plt"
   ]
  },
  {
   "cell_type": "code",
   "execution_count": 2,
   "metadata": {},
   "outputs": [],
   "source": [
    "# Parameter Range\n",
    "# Stock price (S) $10 -> $500\n",
    "# Strike price (K) $7 -> $650\n",
    "# Maturity (T) 1 day to 3 years\n",
    "# Dividend rate (q) 0% -> 3%\n",
    "# Risk free rate (r) 1% -> 3%\n",
    "# Volatility (v) 5% -> 90%\n",
    "# Call price (C) $0 -> $328"
   ]
  },
  {
   "cell_type": "markdown",
   "metadata": {},
   "source": [
    "------------------- variables ----------------------"
   ]
  },
  {
   "cell_type": "code",
   "execution_count": 3,
   "metadata": {},
   "outputs": [],
   "source": [
    "max_s = 500.0\n",
    "min_s = 10.0\n",
    "max_k = 650.0\n",
    "min_k = 7.\n",
    "max_t = 3.0\n",
    "min_t = 1.0\n",
    "min_v = 0.05\n",
    "max_v = 0.9\n",
    "min_r = 0.01\n",
    "max_r = 0.03\n",
    "count = 300000"
   ]
  },
  {
   "cell_type": "markdown",
   "metadata": {},
   "source": [
    "------------ methods --------------"
   ]
  },
  {
   "cell_type": "code",
   "execution_count": 4,
   "metadata": {},
   "outputs": [],
   "source": [
    "def generate_between(min_value, max_value):\n",
    "    x = random()\n",
    "    return max_value * x + (1 - x) * min_value\n",
    "\n",
    "def price_call_bs(k, s, r, t, v):\n",
    "    d1 = (np.log(s / k) + (r + 0.5 * v * v) * t) / (v * np.sqrt(t))\n",
    "    d2 = d1 - v * np.sqrt(t)\n",
    "    call = s * si.norm.cdf(d1) - k * np.exp(-r * t) * si.norm.cdf(d2)\n",
    "    return call\n",
    "\n",
    "def price_put_bs(k, s, r, t, v):\n",
    "    d1 = (np.log(s / k) + (r + 0.5 * v * v) * t) / (v * np.sqrt(t))\n",
    "    d2 = d1 - v * np.sqrt(t)\n",
    "    call = -s * si.norm.cdf(-d1) + k * np.exp(-r * t) * si.norm.cdf(-d2)\n",
    "    return call"
   ]
  },
  {
   "cell_type": "code",
   "execution_count": 5,
   "metadata": {},
   "outputs": [],
   "source": [
    "path_to_data = \"C:\\\\Users\\\\oessebaai\\\\Desktop\\\\blackAndScholesWithNN\\\\complete_data.csv\""
   ]
  },
  {
   "cell_type": "code",
   "execution_count": 6,
   "metadata": {},
   "outputs": [],
   "source": [
    "def generate_data_set_file():\n",
    "    file = open(path_to_data, 'w')\n",
    "    file.write(\"Price\"  + \",\" + \"Strike\" + \",\" + \"Underlying\" + \",\" + \"Rate\" + \",\" + \"Time\" + \",\" + \"Vol\"  + \"\\n\")\n",
    "    for i in range(count):\n",
    "        k = generate_between(min_k, max_k)\n",
    "        s = generate_between(min_s, max_s)\n",
    "        r = generate_between(min_r, max_r)\n",
    "        t = generate_between(min_t, max_t)\n",
    "        v = generate_between(min_v, max_v)\n",
    "        p = price_call_bs(k, s, r, t, v)\n",
    "        file.write(str(p/k) + \",\" + str(k) + \",\" + str(s/k) + \",\" + str(r) + \",\" + str(t) + \",\" + str(v) + \"\\n\")\n",
    "    file.close()"
   ]
  },
  {
   "cell_type": "markdown",
   "metadata": {},
   "source": [
    "------------ generating data -----------------"
   ]
  },
  {
   "cell_type": "code",
   "execution_count": 7,
   "metadata": {},
   "outputs": [],
   "source": [
    "generate_data_set_file()"
   ]
  },
  {
   "cell_type": "code",
   "execution_count": 8,
   "metadata": {},
   "outputs": [],
   "source": [
    "from tflearn.data_utils import load_csv"
   ]
  },
  {
   "cell_type": "markdown",
   "metadata": {},
   "source": [
    "data, labels = load_csv('DataForModel.csv', target_column=0, categorical_labels=False, has_header = True)"
   ]
  },
  {
   "cell_type": "markdown",
   "metadata": {},
   "source": [
    "labels"
   ]
  },
  {
   "cell_type": "markdown",
   "metadata": {},
   "source": [
    "data"
   ]
  },
  {
   "cell_type": "markdown",
   "metadata": {},
   "source": [
    "labels"
   ]
  },
  {
   "cell_type": "markdown",
   "metadata": {},
   "source": [
    "data2 = pd.read_csv('Data.csv', sep = ';', header = None)"
   ]
  },
  {
   "cell_type": "markdown",
   "metadata": {},
   "source": [
    "data2"
   ]
  },
  {
   "cell_type": "markdown",
   "metadata": {},
   "source": [
    "net = tflearn.input_data(shape=[None, 5], name = 'InputData')\n",
    "net = tflearn.fully_connected(net, 32, activation = 'LeakyReLU')\n",
    "net = tflearn.dropout(net,.75)\n",
    "net = tflearn.fully_connected(net, 32, activation = 'ELU')\n",
    "net = tflearn.dropout(net,.75)\n",
    "net = tflearn.fully_connected(net, 32, activation = 'ReLU')\n",
    "net = tflearn.dropout(net,.75)\n",
    "net = tflearn.fully_connected(net, 5, activation = 'ELU')\n",
    "net = tflearn.dropout(net,.75)\n",
    "net = tflearn.regression(net)"
   ]
  },
  {
   "cell_type": "markdown",
   "metadata": {},
   "source": [
    "net = tflearn.input_data(shape=[None, 5])\n",
    "net = tflearn.fully_connected(net, 32)\n",
    "net = tflearn.fully_connected(net, 32)\n",
    "net = tflearn.dropout(net,.5)\n",
    "net = tflearn.fully_connected(net, 5, activation='softmax')\n",
    "net = tflearn.regression(net)"
   ]
  },
  {
   "cell_type": "markdown",
   "metadata": {
    "pixiedust": {
     "displayParams": {}
    }
   },
   "source": [
    "%%pixie_debugger\n",
    "# Define model\n",
    "model = tflearn.DNN(net, tensorboard_verbose=3)\n",
    "# Start training (apply gradient descent algorithm)\n",
    "model.fit(data, labels, n_epoch=10, batch_size = 16, show_metric=True)"
   ]
  },
  {
   "cell_type": "code",
   "execution_count": 9,
   "metadata": {},
   "outputs": [],
   "source": [
    "list1 = [1, 5, 3, 4]\n",
    "list2 = [1, 5, 3, 4]\n",
    "list3 = [1, 4, 7, 4]"
   ]
  },
  {
   "cell_type": "code",
   "execution_count": 10,
   "metadata": {},
   "outputs": [
    {
     "ename": "NameError",
     "evalue": "name 'cmp' is not defined",
     "output_type": "error",
     "traceback": [
      "\u001b[1;31m---------------------------------------------------------------------------\u001b[0m",
      "\u001b[1;31mNameError\u001b[0m                                 Traceback (most recent call last)",
      "\u001b[1;32m<ipython-input-10-7c0830dd7d0b>\u001b[0m in \u001b[0;36m<module>\u001b[1;34m\u001b[0m\n\u001b[1;32m----> 1\u001b[1;33m \u001b[0mprint\u001b[0m\u001b[1;33m(\u001b[0m\u001b[0mcmp\u001b[0m\u001b[1;33m(\u001b[0m\u001b[0mlist1\u001b[0m\u001b[1;33m,\u001b[0m \u001b[0mlist2\u001b[0m\u001b[1;33m)\u001b[0m\u001b[1;33m)\u001b[0m\u001b[1;33m\u001b[0m\u001b[1;33m\u001b[0m\u001b[0m\n\u001b[0m",
      "\u001b[1;31mNameError\u001b[0m: name 'cmp' is not defined"
     ]
    }
   ],
   "source": [
    "print(cmp(list1, list2))"
   ]
  },
  {
   "cell_type": "code",
   "execution_count": 11,
   "metadata": {},
   "outputs": [
    {
     "data": {
      "text/plain": [
       "False"
      ]
     },
     "execution_count": 11,
     "metadata": {},
     "output_type": "execute_result"
    }
   ],
   "source": [
    "3 not in list1"
   ]
  },
  {
   "cell_type": "code",
   "execution_count": null,
   "metadata": {},
   "outputs": [],
   "source": []
  }
 ],
 "metadata": {
  "kernelspec": {
   "display_name": "Python 3",
   "language": "python",
   "name": "python3"
  },
  "language_info": {
   "codemirror_mode": {
    "name": "ipython",
    "version": 3
   },
   "file_extension": ".py",
   "mimetype": "text/x-python",
   "name": "python",
   "nbconvert_exporter": "python",
   "pygments_lexer": "ipython3",
   "version": "3.6.7"
  }
 },
 "nbformat": 4,
 "nbformat_minor": 2
}
